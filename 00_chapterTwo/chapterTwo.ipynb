{
 "cells": [
  {
   "cell_type": "markdown",
   "metadata": {},
   "source": [
    "## The first python script"
   ]
  },
  {
   "cell_type": "code",
   "execution_count": 1,
   "metadata": {},
   "outputs": [
    {
     "name": "stdout",
     "output_type": "stream",
     "text": [
      "Shall we play a game?\n",
      "\n"
     ]
    }
   ],
   "source": [
    "print(\"Shall we play a game?\\n\")"
   ]
  },
  {
   "cell_type": "markdown",
   "metadata": {},
   "source": [
    "### Reserver words, keywords, and built-in functions"
   ]
  },
  {
   "cell_type": "code",
   "execution_count": 2,
   "metadata": {},
   "outputs": [],
   "source": [
    "import keyword"
   ]
  },
  {
   "cell_type": "code",
   "execution_count": 3,
   "metadata": {},
   "outputs": [
    {
     "data": {
      "text/plain": [
       "False"
      ]
     },
     "execution_count": 3,
     "metadata": {},
     "output_type": "execute_result"
    }
   ],
   "source": [
    "s = 'uda'\n",
    "keyword.iskeyword(s)"
   ]
  },
  {
   "cell_type": "code",
   "execution_count": 4,
   "metadata": {},
   "outputs": [
    {
     "data": {
      "text/plain": [
       "True"
      ]
     },
     "execution_count": 4,
     "metadata": {},
     "output_type": "execute_result"
    }
   ],
   "source": [
    "s = 'try'\n",
    "keyword.iskeyword(s)"
   ]
  },
  {
   "cell_type": "markdown",
   "metadata": {},
   "source": [
    "### Global and local variables"
   ]
  },
  {
   "cell_type": "code",
   "execution_count": 6,
   "metadata": {},
   "outputs": [
    {
     "name": "stdout",
     "output_type": "stream",
     "text": [
      "The local variable is you\n",
      "The global variable is me\n"
     ]
    }
   ],
   "source": [
    "#!/usr/bin/env python\n",
    "# local_global.py\n",
    "hacker = 'me'\n",
    "\n",
    "def local_variable_example():\n",
    "    hacker = 'you'\n",
    "    print('The local variable is ' + hacker)\n",
    "\n",
    "local_variable_example()\n",
    "print('The global variable is ' + hacker)"
   ]
  },
  {
   "cell_type": "markdown",
   "metadata": {},
   "source": [
    "### Converting string and number variables"
   ]
  },
  {
   "cell_type": "code",
   "execution_count": 1,
   "metadata": {},
   "outputs": [
    {
     "ename": "TypeError",
     "evalue": "unsupported operand type(s) for +: 'int' and 'str'",
     "output_type": "error",
     "traceback": [
      "\u001b[0;31m----------------------------------------------------------------\u001b[0m",
      "\u001b[0;31mTypeError\u001b[0m                      Traceback (most recent call last)",
      "\u001b[0;32m<ipython-input-1-c03791976b09>\u001b[0m in \u001b[0;36m<module>\u001b[0;34m\u001b[0m\n\u001b[1;32m      1\u001b[0m \u001b[0mvalue1\u001b[0m \u001b[0;34m=\u001b[0m \u001b[0;36m5\u001b[0m\u001b[0;34m\u001b[0m\u001b[0;34m\u001b[0m\u001b[0m\n\u001b[1;32m      2\u001b[0m \u001b[0mvalue2\u001b[0m \u001b[0;34m=\u001b[0m \u001b[0;34m'10'\u001b[0m\u001b[0;34m\u001b[0m\u001b[0;34m\u001b[0m\u001b[0m\n\u001b[0;32m----> 3\u001b[0;31m \u001b[0mprint\u001b[0m\u001b[0;34m(\u001b[0m\u001b[0mvalue1\u001b[0m \u001b[0;34m+\u001b[0m \u001b[0mvalue2\u001b[0m\u001b[0;34m)\u001b[0m\u001b[0;34m\u001b[0m\u001b[0;34m\u001b[0m\u001b[0m\n\u001b[0m",
      "\u001b[0;31mTypeError\u001b[0m: unsupported operand type(s) for +: 'int' and 'str'"
     ]
    }
   ],
   "source": [
    "value1 = 5\n",
    "value2 = '10'\n",
    "print(value1 + value2)"
   ]
  },
  {
   "cell_type": "code",
   "execution_count": 2,
   "metadata": {},
   "outputs": [
    {
     "data": {
      "text/plain": [
       "int"
      ]
     },
     "execution_count": 2,
     "metadata": {},
     "output_type": "execute_result"
    }
   ],
   "source": [
    "type(value1)"
   ]
  },
  {
   "cell_type": "code",
   "execution_count": 3,
   "metadata": {},
   "outputs": [
    {
     "data": {
      "text/plain": [
       "str"
      ]
     },
     "execution_count": 3,
     "metadata": {},
     "output_type": "execute_result"
    }
   ],
   "source": [
    "type(value2)"
   ]
  },
  {
   "cell_type": "code",
   "execution_count": 4,
   "metadata": {},
   "outputs": [],
   "source": [
    "value2 = int(value2)"
   ]
  },
  {
   "cell_type": "code",
   "execution_count": 5,
   "metadata": {},
   "outputs": [
    {
     "name": "stdout",
     "output_type": "stream",
     "text": [
      "15\n"
     ]
    }
   ],
   "source": [
    "print(value1 + value2)"
   ]
  },
  {
   "cell_type": "code",
   "execution_count": 3,
   "metadata": {},
   "outputs": [
    {
     "data": {
      "text/plain": [
       "float"
      ]
     },
     "execution_count": 3,
     "metadata": {},
     "output_type": "execute_result"
    }
   ],
   "source": [
    "value3 = 3.12\n",
    "type(value3)"
   ]
  },
  {
   "cell_type": "code",
   "execution_count": 4,
   "metadata": {},
   "outputs": [],
   "source": [
    "newValue = int(value3)"
   ]
  },
  {
   "cell_type": "code",
   "execution_count": 5,
   "metadata": {},
   "outputs": [
    {
     "name": "stdout",
     "output_type": "stream",
     "text": [
      "3\n"
     ]
    }
   ],
   "source": [
    "print(newValue)"
   ]
  },
  {
   "cell_type": "code",
   "execution_count": 25,
   "metadata": {},
   "outputs": [
    {
     "name": "stdout",
     "output_type": "stream",
     "text": [
      "The length of list list_example is 5, the value at position 0 is 100\n",
      "The length of list list_example is 5, the value at position 1 is 222\n",
      "The length of list list_example is 5, the value at position 2 is 333\n",
      "The length of list list_example is 5, the value at position 3 is 444\n",
      "The length of list list_example is 5, the value at position 4 is string\n",
      "Script finished\n"
     ]
    }
   ],
   "source": [
    "list_example = [100, 222, 333, 444, \"string\"]\n",
    "list_example_length = len(list_example)\n",
    "\n",
    "for iteration in list_example:\n",
    "    index_value = list_example.index(iteration)\n",
    "    print(f\"The length of list list_example is {str(list_example_length)}, the value at position {str(index_value)} is {str(iteration).strip('[]')}\")\n",
    "    \n",
    "print(\"Script finished\")"
   ]
  },
  {
   "cell_type": "code",
   "execution_count": 26,
   "metadata": {},
   "outputs": [
    {
     "name": "stdout",
     "output_type": "stream",
     "text": [
      "String value from list: 333\n"
     ]
    }
   ],
   "source": [
    "list_example = [100, 222, 333, 444]\n",
    "list_value = list_example[2]\n",
    "string_value_from_list = str(list_value)\n",
    "print(f\"String value from list: {str(list_value)}\")"
   ]
  },
  {
   "cell_type": "code",
   "execution_count": 27,
   "metadata": {},
   "outputs": [
    {
     "name": "stdout",
     "output_type": "stream",
     "text": [
      "String value from list: 333\n",
      "Integer value from list: 333\n"
     ]
    }
   ],
   "source": [
    "list_example = [100, 222, 333, 444]\n",
    "lis_value = list_example[2]\n",
    "int_value_from_list = int(list_value)\n",
    "\n",
    "print(f\"String value from list: {str(list_value)}\")\n",
    "print(f\"Integer value from list: {int_value_from_list}\")"
   ]
  },
  {
   "cell_type": "code",
   "execution_count": 28,
   "metadata": {},
   "outputs": [
    {
     "name": "stdout",
     "output_type": "stream",
     "text": [
      "123\n"
     ]
    }
   ],
   "source": [
    "dictionary_example = {'james': 123, 'jack': 456}\n",
    "print(dictionary_example['james'])"
   ]
  },
  {
   "cell_type": "code",
   "execution_count": 30,
   "metadata": {},
   "outputs": [
    {
     "name": "stdout",
     "output_type": "stream",
     "text": [
      "{'james': 123, 'jack': 456, 'john': 789}\n"
     ]
    }
   ],
   "source": [
    "dictionary_example['john'] = 789\n",
    "print(dictionary_example)"
   ]
  },
  {
   "cell_type": "code",
   "execution_count": 31,
   "metadata": {},
   "outputs": [
    {
     "name": "stdout",
     "output_type": "stream",
     "text": [
      "My profession is hckr, what is yours?\n"
     ]
    }
   ],
   "source": [
    "name = \"hckr\"\n",
    "print(\"My profession is \" + name + \", what is yours?\")"
   ]
  },
  {
   "cell_type": "code",
   "execution_count": 33,
   "metadata": {},
   "outputs": [
    {
     "name": "stdout",
     "output_type": "stream",
     "text": [
      "My profession is hckr, what is yours?\n"
     ]
    }
   ],
   "source": [
    "print(\"My profession is %s, what is yours?\" % (name))"
   ]
  },
  {
   "cell_type": "code",
   "execution_count": 34,
   "metadata": {},
   "outputs": [
    {
     "name": "stdout",
     "output_type": "stream",
     "text": [
      "My profession is hckr, what is yours? Penetration tester\n"
     ]
    }
   ],
   "source": [
    "name2 = \"Penetration tester\"\n",
    "\n",
    "print(\"My profession is %s, what is yours? %s\" % (name, name2))"
   ]
  },
  {
   "cell_type": "code",
   "execution_count": 35,
   "metadata": {},
   "outputs": [
    {
     "name": "stdout",
     "output_type": "stream",
     "text": [
      "My profession is hckr, what is yours? Penetration tester, with 15 years experience!\n"
     ]
    }
   ],
   "source": [
    "years = 15\n",
    "\n",
    "print(\"My profession is %s, what is yours? %s, with %d years experience!\" % (name, name2, years))"
   ]
  },
  {
   "cell_type": "markdown",
   "metadata": {},
   "source": [
    "## Operators"
   ]
  },
  {
   "cell_type": "markdown",
   "metadata": {},
   "source": [
    "### Logical and membership operators"
   ]
  },
  {
   "cell_type": "code",
   "execution_count": 36,
   "metadata": {},
   "outputs": [
    {
     "name": "stdout",
     "output_type": "stream",
     "text": [
      "The condition has been met\n"
     ]
    }
   ],
   "source": [
    "a = 10\n",
    "b = 5\n",
    "if a == 10 and b == 5:\n",
    "    print(\"The condition has been met\")\n",
    "else:\n",
    "    print(\"The condition has not been met\")"
   ]
  },
  {
   "cell_type": "code",
   "execution_count": 37,
   "metadata": {},
   "outputs": [
    {
     "name": "stdout",
     "output_type": "stream",
     "text": [
      "The conditions has been met\n"
     ]
    }
   ],
   "source": [
    "a = False\n",
    "b = False\n",
    "if not(a and b):\n",
    "    print(\"The conditions has been met\")\n",
    "else:\n",
    "    print(\"The conditions has not been met\")"
   ]
  },
  {
   "cell_type": "code",
   "execution_count": 38,
   "metadata": {},
   "outputs": [
    {
     "name": "stdout",
     "output_type": "stream",
     "text": [
      "The value of Team is in the variable\n"
     ]
    }
   ],
   "source": [
    "variable = \"X-Team\"\n",
    "\n",
    "if \"Team\" in variable:\n",
    "    print(\"The value of Team is in the variable\")\n",
    "else:\n",
    "    print(\"The value of Team is not in the variable\")"
   ]
  }
 ],
 "metadata": {
  "kernelspec": {
   "display_name": "Python 3",
   "language": "python",
   "name": "python3"
  },
  "language_info": {
   "codemirror_mode": {
    "name": "ipython",
    "version": 3
   },
   "file_extension": ".py",
   "mimetype": "text/x-python",
   "name": "python",
   "nbconvert_exporter": "python",
   "pygments_lexer": "ipython3",
   "version": "3.7.3"
  }
 },
 "nbformat": 4,
 "nbformat_minor": 2
}
