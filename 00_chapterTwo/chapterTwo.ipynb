{
 "cells": [
  {
   "cell_type": "markdown",
   "metadata": {},
   "source": [
    "## The first python script"
   ]
  },
  {
   "cell_type": "code",
   "execution_count": 1,
   "metadata": {},
   "outputs": [
    {
     "name": "stdout",
     "output_type": "stream",
     "text": [
      "Shall we play a game?\n",
      "\n"
     ]
    }
   ],
   "source": [
    "print(\"Shall we play a game?\\n\")"
   ]
  },
  {
   "cell_type": "markdown",
   "metadata": {},
   "source": [
    "### Reserver words, keywords, and built-in functions"
   ]
  },
  {
   "cell_type": "code",
   "execution_count": 2,
   "metadata": {},
   "outputs": [],
   "source": [
    "import keyword"
   ]
  },
  {
   "cell_type": "code",
   "execution_count": 3,
   "metadata": {},
   "outputs": [
    {
     "data": {
      "text/plain": [
       "False"
      ]
     },
     "execution_count": 3,
     "metadata": {},
     "output_type": "execute_result"
    }
   ],
   "source": [
    "s = 'uda'\n",
    "keyword.iskeyword(s)"
   ]
  },
  {
   "cell_type": "code",
   "execution_count": 4,
   "metadata": {},
   "outputs": [
    {
     "data": {
      "text/plain": [
       "True"
      ]
     },
     "execution_count": 4,
     "metadata": {},
     "output_type": "execute_result"
    }
   ],
   "source": [
    "s = 'try'\n",
    "keyword.iskeyword(s)"
   ]
  },
  {
   "cell_type": "markdown",
   "metadata": {},
   "source": [
    "### Global and local variables"
   ]
  },
  {
   "cell_type": "code",
   "execution_count": 6,
   "metadata": {},
   "outputs": [
    {
     "name": "stdout",
     "output_type": "stream",
     "text": [
      "The local variable is you\n",
      "The global variable is me\n"
     ]
    }
   ],
   "source": [
    "#!/usr/bin/env python\n",
    "# local_global.py\n",
    "hacker = 'me'\n",
    "\n",
    "def local_variable_example():\n",
    "    hacker = 'you'\n",
    "    print('The local variable is ' + hacker)\n",
    "\n",
    "local_variable_example()\n",
    "print('The global variable is ' + hacker)"
   ]
  },
  {
   "cell_type": "markdown",
   "metadata": {},
   "source": [
    "### Converting string and number variables"
   ]
  },
  {
   "cell_type": "code",
   "execution_count": 1,
   "metadata": {},
   "outputs": [
    {
     "ename": "TypeError",
     "evalue": "unsupported operand type(s) for +: 'int' and 'str'",
     "output_type": "error",
     "traceback": [
      "\u001b[0;31m----------------------------------------------------------------\u001b[0m",
      "\u001b[0;31mTypeError\u001b[0m                      Traceback (most recent call last)",
      "\u001b[0;32m<ipython-input-1-c03791976b09>\u001b[0m in \u001b[0;36m<module>\u001b[0;34m\u001b[0m\n\u001b[1;32m      1\u001b[0m \u001b[0mvalue1\u001b[0m \u001b[0;34m=\u001b[0m \u001b[0;36m5\u001b[0m\u001b[0;34m\u001b[0m\u001b[0;34m\u001b[0m\u001b[0m\n\u001b[1;32m      2\u001b[0m \u001b[0mvalue2\u001b[0m \u001b[0;34m=\u001b[0m \u001b[0;34m'10'\u001b[0m\u001b[0;34m\u001b[0m\u001b[0;34m\u001b[0m\u001b[0m\n\u001b[0;32m----> 3\u001b[0;31m \u001b[0mprint\u001b[0m\u001b[0;34m(\u001b[0m\u001b[0mvalue1\u001b[0m \u001b[0;34m+\u001b[0m \u001b[0mvalue2\u001b[0m\u001b[0;34m)\u001b[0m\u001b[0;34m\u001b[0m\u001b[0;34m\u001b[0m\u001b[0m\n\u001b[0m",
      "\u001b[0;31mTypeError\u001b[0m: unsupported operand type(s) for +: 'int' and 'str'"
     ]
    }
   ],
   "source": [
    "value1 = 5\n",
    "value2 = '10'\n",
    "print(value1 + value2)"
   ]
  },
  {
   "cell_type": "code",
   "execution_count": 2,
   "metadata": {},
   "outputs": [
    {
     "data": {
      "text/plain": [
       "int"
      ]
     },
     "execution_count": 2,
     "metadata": {},
     "output_type": "execute_result"
    }
   ],
   "source": [
    "type(value1)"
   ]
  },
  {
   "cell_type": "code",
   "execution_count": 3,
   "metadata": {},
   "outputs": [
    {
     "data": {
      "text/plain": [
       "str"
      ]
     },
     "execution_count": 3,
     "metadata": {},
     "output_type": "execute_result"
    }
   ],
   "source": [
    "type(value2)"
   ]
  },
  {
   "cell_type": "code",
   "execution_count": 4,
   "metadata": {},
   "outputs": [],
   "source": [
    "value2 = int(value2)"
   ]
  },
  {
   "cell_type": "code",
   "execution_count": 5,
   "metadata": {},
   "outputs": [
    {
     "name": "stdout",
     "output_type": "stream",
     "text": [
      "15\n"
     ]
    }
   ],
   "source": [
    "print(value1 + value2)"
   ]
  },
  {
   "cell_type": "code",
   "execution_count": 3,
   "metadata": {},
   "outputs": [
    {
     "data": {
      "text/plain": [
       "float"
      ]
     },
     "execution_count": 3,
     "metadata": {},
     "output_type": "execute_result"
    }
   ],
   "source": [
    "value3 = 3.12\n",
    "type(value3)"
   ]
  },
  {
   "cell_type": "code",
   "execution_count": 4,
   "metadata": {},
   "outputs": [],
   "source": [
    "newValue = int(value3)"
   ]
  },
  {
   "cell_type": "code",
   "execution_count": 5,
   "metadata": {},
   "outputs": [
    {
     "name": "stdout",
     "output_type": "stream",
     "text": [
      "3\n"
     ]
    }
   ],
   "source": [
    "print(newValue)"
   ]
  },
  {
   "cell_type": "code",
   "execution_count": 25,
   "metadata": {},
   "outputs": [
    {
     "name": "stdout",
     "output_type": "stream",
     "text": [
      "The length of list list_example is 5, the value at position 0 is 100\n",
      "The length of list list_example is 5, the value at position 1 is 222\n",
      "The length of list list_example is 5, the value at position 2 is 333\n",
      "The length of list list_example is 5, the value at position 3 is 444\n",
      "The length of list list_example is 5, the value at position 4 is string\n",
      "Script finished\n"
     ]
    }
   ],
   "source": [
    "list_example = [100, 222, 333, 444, \"string\"]\n",
    "list_example_length = len(list_example)\n",
    "\n",
    "for iteration in list_example:\n",
    "    index_value = list_example.index(iteration)\n",
    "    print(f\"The length of list list_example is {str(list_example_length)}, the value at position {str(index_value)} is {str(iteration).strip('[]')}\")\n",
    "    \n",
    "print(\"Script finished\")"
   ]
  },
  {
   "cell_type": "code",
   "execution_count": 26,
   "metadata": {},
   "outputs": [
    {
     "name": "stdout",
     "output_type": "stream",
     "text": [
      "String value from list: 333\n"
     ]
    }
   ],
   "source": [
    "list_example = [100, 222, 333, 444]\n",
    "list_value = list_example[2]\n",
    "string_value_from_list = str(list_value)\n",
    "print(f\"String value from list: {str(list_value)}\")"
   ]
  },
  {
   "cell_type": "code",
   "execution_count": 27,
   "metadata": {},
   "outputs": [
    {
     "name": "stdout",
     "output_type": "stream",
     "text": [
      "String value from list: 333\n",
      "Integer value from list: 333\n"
     ]
    }
   ],
   "source": [
    "list_example = [100, 222, 333, 444]\n",
    "lis_value = list_example[2]\n",
    "int_value_from_list = int(list_value)\n",
    "\n",
    "print(f\"String value from list: {str(list_value)}\")\n",
    "print(f\"Integer value from list: {int_value_from_list}\")"
   ]
  },
  {
   "cell_type": "code",
   "execution_count": 28,
   "metadata": {},
   "outputs": [
    {
     "name": "stdout",
     "output_type": "stream",
     "text": [
      "123\n"
     ]
    }
   ],
   "source": [
    "dictionary_example = {'james': 123, 'jack': 456}\n",
    "print(dictionary_example['james'])"
   ]
  },
  {
   "cell_type": "code",
   "execution_count": 30,
   "metadata": {},
   "outputs": [
    {
     "name": "stdout",
     "output_type": "stream",
     "text": [
      "{'james': 123, 'jack': 456, 'john': 789}\n"
     ]
    }
   ],
   "source": [
    "dictionary_example['john'] = 789\n",
    "print(dictionary_example)"
   ]
  },
  {
   "cell_type": "code",
   "execution_count": 31,
   "metadata": {},
   "outputs": [
    {
     "name": "stdout",
     "output_type": "stream",
     "text": [
      "My profession is hckr, what is yours?\n"
     ]
    }
   ],
   "source": [
    "name = \"hckr\"\n",
    "print(\"My profession is \" + name + \", what is yours?\")"
   ]
  },
  {
   "cell_type": "code",
   "execution_count": 33,
   "metadata": {},
   "outputs": [
    {
     "name": "stdout",
     "output_type": "stream",
     "text": [
      "My profession is hckr, what is yours?\n"
     ]
    }
   ],
   "source": [
    "print(\"My profession is %s, what is yours?\" % (name))"
   ]
  },
  {
   "cell_type": "code",
   "execution_count": 34,
   "metadata": {},
   "outputs": [
    {
     "name": "stdout",
     "output_type": "stream",
     "text": [
      "My profession is hckr, what is yours? Penetration tester\n"
     ]
    }
   ],
   "source": [
    "name2 = \"Penetration tester\"\n",
    "\n",
    "print(\"My profession is %s, what is yours? %s\" % (name, name2))"
   ]
  },
  {
   "cell_type": "code",
   "execution_count": 35,
   "metadata": {},
   "outputs": [
    {
     "name": "stdout",
     "output_type": "stream",
     "text": [
      "My profession is hckr, what is yours? Penetration tester, with 15 years experience!\n"
     ]
    }
   ],
   "source": [
    "years = 15\n",
    "\n",
    "print(\"My profession is %s, what is yours? %s, with %d years experience!\" % (name, name2, years))"
   ]
  },
  {
   "cell_type": "markdown",
   "metadata": {},
   "source": [
    "## Operators"
   ]
  },
  {
   "cell_type": "markdown",
   "metadata": {},
   "source": [
    "### Logical and membership operators"
   ]
  },
  {
   "cell_type": "code",
   "execution_count": 36,
   "metadata": {},
   "outputs": [
    {
     "name": "stdout",
     "output_type": "stream",
     "text": [
      "The condition has been met\n"
     ]
    }
   ],
   "source": [
    "a = 10\n",
    "b = 5\n",
    "if a == 10 and b == 5:\n",
    "    print(\"The condition has been met\")\n",
    "else:\n",
    "    print(\"The condition has not been met\")"
   ]
  },
  {
   "cell_type": "code",
   "execution_count": 37,
   "metadata": {},
   "outputs": [
    {
     "name": "stdout",
     "output_type": "stream",
     "text": [
      "The conditions has been met\n"
     ]
    }
   ],
   "source": [
    "a = False\n",
    "b = False\n",
    "if not(a and b):\n",
    "    print(\"The conditions has been met\")\n",
    "else:\n",
    "    print(\"The conditions has not been met\")"
   ]
  },
  {
   "cell_type": "code",
   "execution_count": 38,
   "metadata": {},
   "outputs": [
    {
     "name": "stdout",
     "output_type": "stream",
     "text": [
      "The value of Team is in the variable\n"
     ]
    }
   ],
   "source": [
    "variable = \"X-Team\"\n",
    "\n",
    "if \"Team\" in variable:\n",
    "    print(\"The value of Team is in the variable\")\n",
    "else:\n",
    "    print(\"The value of Team is not in the variable\")"
   ]
  },
  {
   "cell_type": "markdown",
   "metadata": {},
   "source": [
    "### Compound statements"
   ]
  },
  {
   "cell_type": "markdown",
   "metadata": {},
   "source": [
    "#### The if statements"
   ]
  },
  {
   "cell_type": "code",
   "execution_count": 1,
   "metadata": {},
   "outputs": [
    {
     "name": "stdout",
     "output_type": "stream",
     "text": [
      "The variable x has a value of 1\n"
     ]
    }
   ],
   "source": [
    "x = 1\n",
    "if x == 1:\n",
    "    print(\"The variable x has a value of 1\")"
   ]
  },
  {
   "cell_type": "code",
   "execution_count": 2,
   "metadata": {},
   "outputs": [
    {
     "name": "stdout",
     "output_type": "stream",
     "text": [
      "The variable x has a value of 1\n"
     ]
    }
   ],
   "source": [
    "x = 1\n",
    "if x == 3:\n",
    "    print(\"The variable x has a value of 3\")\n",
    "elif x == 2:\n",
    "    print(\"The variable x has a value of 2\")\n",
    "elif x == 1:\n",
    "    print(\"The variable x has a value of 1\")\n",
    "else:\n",
    "    print(\"The variable x does not have a value of 1, 2, or 3\")"
   ]
  },
  {
   "cell_type": "code",
   "execution_count": 3,
   "metadata": {},
   "outputs": [
    {
     "name": "stdout",
     "output_type": "stream",
     "text": [
      "Do you want to play a game?\n",
      "\n"
     ]
    }
   ],
   "source": [
    "execute=True\n",
    "if execute != False:\n",
    "    print(\"Do you want to play a game?\\n\")"
   ]
  },
  {
   "cell_type": "markdown",
   "metadata": {},
   "source": [
    "#### Python loops"
   ]
  },
  {
   "cell_type": "markdown",
   "metadata": {},
   "source": [
    "##### The while loop"
   ]
  },
  {
   "cell_type": "code",
   "execution_count": 1,
   "metadata": {},
   "outputs": [
    {
     "name": "stdout",
     "output_type": "stream",
     "text": [
      "Your current count is: 5\n",
      "Your current count is: 4\n",
      "Your current count is: 3\n",
      "Your current count is: 2\n",
      "Your current count is: 1\n"
     ]
    }
   ],
   "source": [
    "x = 5\n",
    "while x > 0:\n",
    "    print(\"Your current count is: %d\" % (x))\n",
    "    x -= 1"
   ]
  },
  {
   "cell_type": "markdown",
   "metadata": {},
   "source": [
    "##### The for loop"
   ]
  },
  {
   "cell_type": "code",
   "execution_count": 2,
   "metadata": {},
   "outputs": [
    {
     "name": "stdout",
     "output_type": "stream",
     "text": [
      "Your current count is: 1\n",
      "Your current count is: 2\n",
      "Your current count is: 3\n",
      "Your current count is: 4\n",
      "Your current count is: 5\n",
      "Your current count is: 6\n",
      "Your current count is: 7\n",
      "Your current count is: 8\n",
      "Your current count is: 9\n",
      "Your current count is: 10\n",
      "Your current count is: 11\n",
      "Your current count is: 12\n",
      "Your current count is: 13\n",
      "Your current count is: 14\n"
     ]
    }
   ],
   "source": [
    "for iteration in range (1, 15, 1):\n",
    "    print(\"Your current count is: %d\" % (iteration))"
   ]
  },
  {
   "cell_type": "markdown",
   "metadata": {},
   "source": [
    "##### The break condition"
   ]
  },
  {
   "cell_type": "code",
   "execution_count": 3,
   "metadata": {},
   "outputs": [
    {
     "name": "stdout",
     "output_type": "stream",
     "text": [
      "Your current count is: 15\n",
      "Your current count is: 14\n",
      "Your current count is: 13\n",
      "Your current count is: 12\n",
      "Your current count is: 11\n",
      "Your current count is: 10\n",
      "Your current count is: 9\n",
      "Your current count is: 8\n",
      "Your current count is: 7\n",
      "Your current count is: 6\n",
      "Your count is finished\n"
     ]
    }
   ],
   "source": [
    "numeric = 15\n",
    "while numeric > 0:\n",
    "    print(\"Your current count is: %d\" % (numeric))\n",
    "    numeric -= 1\n",
    "    if numeric == 5:\n",
    "        break\n",
    "print(\"Your count is finished\")"
   ]
  },
  {
   "cell_type": "code",
   "execution_count": 4,
   "metadata": {},
   "outputs": [
    {
     "name": "stdout",
     "output_type": "stream",
     "text": [
      "Your current count is: 14\n",
      "Your current count is: 14\n",
      "Your current count is: 14\n",
      "Your current count is: 14\n",
      "Your current count is: 14\n",
      "Your current count is: 14\n",
      "Your current count is: 14\n",
      "Your current count is: 14\n",
      "Your current count is: 14\n",
      "Your current count is: 14\n",
      "Your count is finished!\n"
     ]
    }
   ],
   "source": [
    "numeric = 15\n",
    "for iteratin in range(numeric, 5, -1):\n",
    "    print(\"Your current count is: %d\" % (iteration))\n",
    "\n",
    "print(\"Your count is finished!\")"
   ]
  },
  {
   "cell_type": "markdown",
   "metadata": {},
   "source": [
    "### Conditional Handlers"
   ]
  },
  {
   "cell_type": "code",
   "execution_count": 10,
   "metadata": {},
   "outputs": [
    {
     "ename": "SystemExit",
     "evalue": "[!] Install the docx writer library as root or through sudo: pip install python-docx",
     "output_type": "error",
     "traceback": [
      "An exception has occurred, use %tb to see the full traceback.\n",
      "\u001b[0;31mSystemExit\u001b[0m\u001b[0;31m:\u001b[0m [!] Install the docx writer library as root or through sudo: pip install python-docx\n"
     ]
    },
    {
     "name": "stderr",
     "output_type": "stream",
     "text": [
      "/home/cmorataya/apps/miniconda3/lib/python3.7/site-packages/IPython/core/interactiveshell.py:3304: UserWarning: To exit: use 'exit', 'quit', or Ctrl-D.\n",
      "  warn(\"To exit: use 'exit', 'quit', or Ctrl-D.\", stacklevel=1)\n"
     ]
    }
   ],
   "source": [
    "import sys\n",
    "try:\n",
    "    import docx\n",
    "    from docx.shared import Inches\n",
    "except:\n",
    "    sys.exit(\"[!] Install the docx writer library as root or through sudo: pip install python-docx\")"
   ]
  },
  {
   "cell_type": "markdown",
   "metadata": {},
   "source": [
    "## Functions"
   ]
  },
  {
   "cell_type": "markdown",
   "metadata": {},
   "source": [
    "``` pl\n",
    "#!/usr/bin/env perl\n",
    "\n",
    "# Function in Perl\n",
    "sub wargames {\n",
    "    print \"Do you want to play a game?\\n\";\n",
    "    print \"In Perl\\n\";\n",
    "}\n",
    "\n",
    "Function call\n",
    "wargames();\n",
    "```"
   ]
  },
  {
   "cell_type": "code",
   "execution_count": 7,
   "metadata": {},
   "outputs": [
    {
     "name": "stdout",
     "output_type": "stream",
     "text": [
      "Do you wnat to play a game?\n",
      "In Python\n"
     ]
    }
   ],
   "source": [
    "#Function in Python\n",
    "def wargames():\n",
    "    print(\"Do you wnat to play a game?\")\n",
    "    print(\"In Python\")\n",
    "    return\n",
    "\n",
    "# Function call\n",
    "wargames()"
   ]
  },
  {
   "cell_type": "markdown",
   "metadata": {},
   "source": [
    "### How to comment your code"
   ]
  },
  {
   "cell_type": "code",
   "execution_count": 8,
   "metadata": {},
   "outputs": [],
   "source": [
    "# Author: Me\n",
    "# Date: 2019\n",
    "x = 5 # This defines the value of the x followed by a comment"
   ]
  },
  {
   "cell_type": "code",
   "execution_count": 9,
   "metadata": {
    "scrolled": true
   },
   "outputs": [
    {
     "data": {
      "text/plain": [
       "'\\nAuthor: Me\\nDate: 2019\\n'"
      ]
     },
     "execution_count": 9,
     "metadata": {},
     "output_type": "execute_result"
    }
   ],
   "source": [
    "\"\"\"\n",
    "Author: Me\n",
    "Date: 2019\n",
    "\"\"\""
   ]
  },
  {
   "cell_type": "markdown",
   "metadata": {},
   "source": [
    "## Arguments and options"
   ]
  },
  {
   "cell_type": "code",
   "execution_count": 14,
   "metadata": {
    "scrolled": false
   },
   "outputs": [
    {
     "name": "stdout",
     "output_type": "stream",
     "text": [
      "['arguments.py', 'value1', 'value2', 'value3']\n",
      "The number of arguments passed was: 4\n",
      "The 0 argument is arguments.py\n",
      "The 1 argument is value1\n",
      "The 2 argument is value2\n",
      "The 3 argument is value3\n"
     ]
    }
   ],
   "source": [
    "%run arguments.py value1 value2 value3"
   ]
  },
  {
   "cell_type": "markdown",
   "metadata": {},
   "source": [
    "# Your first assessor script"
   ]
  },
  {
   "cell_type": "code",
   "execution_count": null,
   "metadata": {},
   "outputs": [],
   "source": [
    "def get_ip(inter):\n",
    "    s = socket.socket(socket.AF_INET, socket.SOCK_DGRAM)\n",
    "    ip_addr = socket.inet_ntoa(fcntl.ioctl(s.fileno(), 0x8915, struct.pack('256s', inter[:15]))[20:24])\n",
    "    return ip_addr"
   ]
  },
  {
   "cell_type": "code",
   "execution_count": null,
   "metadata": {},
   "outputs": [],
   "source": [
    "def get_mac_address(inter):\n",
    "    s = socket.socket(socket.AF_INET, socket.SOCK_DGRAM)\n",
    "    info = fcntl.ioctl(s.fileo(), 0x8927, struct.pack('256s', inter[:15]))\n",
    "    mac_address = ''.join(['%02x:' % ord(char) for char in info[18:24]])[:-1]\n",
    "    return mac_address"
   ]
  },
  {
   "cell_type": "code",
   "execution_count": null,
   "metadata": {},
   "outputs": [],
   "source": [
    "def get_localhost_details(interfaces_eth, interfaces_wlan):\n",
    "    hostdata = \"None\"\n",
    "    hostname = \"None\"\n",
    "    windows_ip = \"None\"\n",
    "    eth_ip = \"None\"\n",
    "    wlan_ip = \"None\"\n",
    "    host_fqdn = \"None\"\n",
    "    eth_mac = \"None\"\n",
    "    wlan_mac = \"None\"\n",
    "    windows_mac = \"None\"\n",
    "    hostname = socket.gethostbyname(socket.gethostname())\n",
    "    if hostname.startswith(\"127.\") and os.name != \"nt\":\n",
    "        hostdata = socket.gethostbyaddr(socket.gethostname())\n",
    "        hostname = str(hostdata[1]).strip('[]')\n",
    "        host_fqdn = socket.getfqdn()\n",
    "        for interface in interfaces_eth:\n",
    "            try:\n",
    "                eth_ip = get_ip(interface)\n",
    "                if not \"None\" in eth_ip:\n",
    "                    eth_mac= get_mac_address(interface)\n",
    "                break\n",
    "            except IOError:\n",
    "                pass\n",
    "        for interface in interfaces_wlan:\n",
    "            try:\n",
    "                wlan_ip = get_ip(interface)\n",
    "                if not \"None\" in wlan_ip:\n",
    "                    wlan_mac = get_mac_address(interface)\n",
    "                break\n",
    "            except IOError:\n",
    "                pass\n",
    "    else:\n",
    "        windows_ip = socket. gethostbyname(socket.gethostname())\n",
    "        windows_mac = hex(getnode()).lstrip('0x')\n",
    "        windows_mac = ':'.join(pos1 + pos2 for pos1, pos2 in zip(windows_mac[::2], windows_mac[1::2]))\n",
    "        hostdata = socket.gethostbyaddr(socket.gethostname())\n",
    "        hostname = str(hostdata[1]).strip(\"[]\\'\")\n",
    "        host_fqdn = socket.getfqdn()\n",
    "    return hostdata, hostname, windows_ip, eth_ip, wlan_ip, host_fqdn, eth_mac, wlan_mac, windows_mac\n",
    "\n",
    "def get_public_ip(request_target):\n",
    "    grabber = urllib2.build_opener()\n",
    "    grabber.addheaders = [('User-agent','Mozilla/5.0')]\n",
    "    try:\n",
    "        public_ip_address = grabber.open(target_url).read()\n",
    "    except urllib2.HTTPError, error:\n",
    "        print(\"There was an error trying to get your Public IP: %s\") % (error)\n",
    "    except urllib2.URLError, error:\n",
    "        print(\"There was an error trying to get your Public IP: %s\") % (error)\n",
    "    return public_ip_address"
   ]
  }
 ],
 "metadata": {
  "kernelspec": {
   "display_name": "Python 3",
   "language": "python",
   "name": "python3"
  },
  "language_info": {
   "codemirror_mode": {
    "name": "ipython",
    "version": 3
   },
   "file_extension": ".py",
   "mimetype": "text/x-python",
   "name": "python",
   "nbconvert_exporter": "python",
   "pygments_lexer": "ipython3",
   "version": "3.7.3"
  }
 },
 "nbformat": 4,
 "nbformat_minor": 2
}
